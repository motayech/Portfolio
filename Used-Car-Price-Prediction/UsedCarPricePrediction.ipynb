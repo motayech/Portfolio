{
 "cells": [
  {
   "cell_type": "markdown",
   "metadata": {},
   "source": [
    "# Prediction of Used Car Prices"
   ]
  },
  {
   "cell_type": "markdown",
   "metadata": {
    "id": "szynSas9GLRk"
   },
   "source": [
    "# **I - Baseline System**"
   ]
  },
  {
   "cell_type": "markdown",
   "metadata": {
    "id": "braxI25tkUdv"
   },
   "source": [
    "After importing the necessary libraries and the data, some data-preprocessing and feature extraction needed to be done in order to build a linear regression model. First, I dropped all features that I thought were unnecessary in determining the price of a used car. Following this, I imputed missing values for numeric features with the median of the respective features.\n",
    "\n",
    "One pre-processing step I carried out was converting the 'cylinders' feature from a categorical feature to a numeric feature. To do so, I also had to drop records with a 'cylinder' value of \"other\" and convert the new feature create from a string to an integer.\n",
    "\n",
    "Outliers were then dropped fron numeric features. This was done to remove any extreme or impossible values (e.g.: a car cannot be sold for a negative price or for free).\n",
    "\n",
    "After this, I imputed all categorical variables so that there would be no records with null values. After imputation, I encoded the categorical features to become numeric. Only one categorical feature ('condition') was encoded using ordinal encoding; the remaining categorical features were encoded using one-hot encoding.\n",
    "\n",
    "The final stage in pre-processing was scaling the numeric features, which were scaled using the StandardScaler.\n",
    "\n",
    "In the end, a linear regression model yielded an RMSE value of around 7779 with a standard deviation of 22."
   ]
  },
  {
   "cell_type": "markdown",
   "metadata": {
    "id": "ul9Kk0LaD6k4"
   },
   "source": [
    "## Importing Libraries and Data"
   ]
  },
  {
   "cell_type": "code",
   "execution_count": 1,
   "metadata": {
    "id": "eGavDhtct8xH"
   },
   "outputs": [],
   "source": [
    "import pandas as pd\n",
    "import numpy as np\n",
    "import seaborn as sns\n",
    "import matplotlib.pyplot as plt\n",
    "\n",
    "from sklearn.compose import ColumnTransformer\n",
    "from sklearn.ensemble import RandomForestRegressor\n",
    "from sklearn.ensemble import GradientBoostingRegressor\n",
    "from sklearn.impute import SimpleImputer\n",
    "from sklearn.linear_model import LinearRegression\n",
    "from sklearn.metrics import mean_squared_error\n",
    "from sklearn.model_selection import cross_val_score\n",
    "from sklearn.model_selection import GridSearchCV\n",
    "from sklearn.pipeline import Pipeline\n",
    "from sklearn.preprocessing import StandardScaler\n",
    "from sklearn.preprocessing import QuantileTransformer\n",
    "from sklearn.preprocessing import OrdinalEncoder\n",
    "from sklearn.preprocessing import OneHotEncoder\n",
    "from sklearn.tree import DecisionTreeRegressor"
   ]
  },
  {
   "cell_type": "code",
   "execution_count": 2,
   "metadata": {
    "id": "5smd2b_1uawc"
   },
   "outputs": [],
   "source": [
    "train = pd.read_csv(\"https://raw.githubusercontent.com/motayech/Portfolio/main/Used%20Car%20Price%20Prediction/cars_train.csv\")"
   ]
  },
  {
   "cell_type": "code",
   "execution_count": 3,
   "metadata": {
    "id": "eC5PLc5NXB59"
   },
   "outputs": [],
   "source": [
    "train = train.reset_index(drop=True)"
   ]
  },
  {
   "cell_type": "code",
   "execution_count": 4,
   "metadata": {
    "colab": {
     "base_uri": "https://localhost:8080/"
    },
    "id": "-_Tm7qBEufjK",
    "outputId": "ffe2c4d8-e6f0-4554-bae6-0e97b6a5fff0"
   },
   "outputs": [
    {
     "data": {
      "text/plain": [
       "(           id           region  price    year manufacturer  \\\n",
       " 0  7226069143     indianapolis   3495  2005.0      lincoln   \n",
       " 1  7233322668  medford-ashland  11995  2011.0       subaru   \n",
       " 2  7239134076           austin  68990  2016.0      porsche   \n",
       " 3  7238509078           hawaii  17900  2011.0          bmw   \n",
       " 4  7236364831    daytona beach   9500  2006.0          NaN   \n",
       " \n",
       "                  model  condition    cylinders fuel  odometer transmission  \\\n",
       " 0                  lse       good  8 cylinders  gas  181000.0    automatic   \n",
       " 1              impreza       good  4 cylinders  gas   69408.0    automatic   \n",
       " 2  cayman gts coupe 2d       good          NaN  gas    7923.0    automatic   \n",
       " 3                 535i        NaN          NaN  gas   50193.0    automatic   \n",
       " 4         mazada miata  excellent  4 cylinders  gas   52864.0    automatic   \n",
       " \n",
       "   drive         type paint_color state        lat        long  \\\n",
       " 0   rwd        sedan      silver    in  39.640500  -86.311800   \n",
       " 1   4wd        wagon        blue    or  45.524894 -122.656061   \n",
       " 2   rwd        coupe         red    tx  30.260000  -97.740000   \n",
       " 3   NaN        sedan       black    hi  21.293854 -157.837158   \n",
       " 4   rwd  convertible        blue    fl  29.172023  -81.027367   \n",
       " \n",
       "                posting_date  \n",
       " 0  2020-11-05T16:19:56-0500  \n",
       " 1  2020-11-18T15:45:51-0800  \n",
       " 2  2020-11-30T02:13:53-0600  \n",
       " 3  2020-11-28T13:57:30-1000  \n",
       " 4  2020-11-24T12:48:43-0500  ,\n",
       " (320749, 18))"
      ]
     },
     "execution_count": 4,
     "metadata": {},
     "output_type": "execute_result"
    }
   ],
   "source": [
    "train.head(), train.shape"
   ]
  },
  {
   "cell_type": "markdown",
   "metadata": {
    "id": "Td2eADmLGoEt"
   },
   "source": [
    "## Data Pre-Processing"
   ]
  },
  {
   "cell_type": "code",
   "execution_count": 5,
   "metadata": {
    "colab": {
     "base_uri": "https://localhost:8080/"
    },
    "id": "Ko-UDshlGtwH",
    "outputId": "539a99b4-dea0-4595-ffea-ceab70e782b1"
   },
   "outputs": [
    {
     "data": {
      "text/plain": [
       "Index(['id', 'region', 'price', 'year', 'manufacturer', 'model', 'condition',\n",
       "       'cylinders', 'fuel', 'odometer', 'transmission', 'drive', 'type',\n",
       "       'paint_color', 'state', 'lat', 'long', 'posting_date'],\n",
       "      dtype='object')"
      ]
     },
     "execution_count": 5,
     "metadata": {},
     "output_type": "execute_result"
    }
   ],
   "source": [
    "train.columns"
   ]
  },
  {
   "cell_type": "code",
   "execution_count": 6,
   "metadata": {
    "id": "iD1yVWE1sUVr"
   },
   "outputs": [],
   "source": [
    "train1 = train.copy()"
   ]
  },
  {
   "cell_type": "code",
   "execution_count": 7,
   "metadata": {
    "id": "wD49GSOZG46d"
   },
   "outputs": [],
   "source": [
    "train = train.drop(['id', 'region', 'model', 'lat', 'long', 'posting_date', 'manufacturer', 'state', 'paint_color'], axis=1)"
   ]
  },
  {
   "cell_type": "code",
   "execution_count": 8,
   "metadata": {
    "colab": {
     "base_uri": "https://localhost:8080/"
    },
    "id": "JrhckfACLLtY",
    "outputId": "40323411-7d44-44f6-a990-c9580c74a398"
   },
   "outputs": [
    {
     "data": {
      "text/plain": [
       "Index(['price', 'year', 'condition', 'cylinders', 'fuel', 'odometer',\n",
       "       'transmission', 'drive', 'type'],\n",
       "      dtype='object')"
      ]
     },
     "execution_count": 8,
     "metadata": {},
     "output_type": "execute_result"
    }
   ],
   "source": [
    "train.columns"
   ]
  },
  {
   "cell_type": "markdown",
   "metadata": {
    "id": "xj0gBvUlEKH8"
   },
   "source": [
    "### Imputing Missing Values in the \"Year\" Feature"
   ]
  },
  {
   "cell_type": "code",
   "execution_count": 9,
   "metadata": {
    "id": "eMkJd9zRET1r"
   },
   "outputs": [],
   "source": [
    "train['year'] = train['year'].fillna(train['year'].median())"
   ]
  },
  {
   "cell_type": "markdown",
   "metadata": {
    "id": "suE0sbKuEnE8"
   },
   "source": [
    "### Imputing Missing Values in the \"Odometer\" Feature"
   ]
  },
  {
   "cell_type": "code",
   "execution_count": 10,
   "metadata": {
    "id": "Af_Q1c6MErvo"
   },
   "outputs": [],
   "source": [
    "train['odometer'] = train['odometer'].fillna(train['odometer'].median())"
   ]
  },
  {
   "cell_type": "markdown",
   "metadata": {
    "id": "vnJgEcKQNc1b"
   },
   "source": [
    "### Changing Data Type of \"Cylinders\" & Imputing for Missing Values of \"Cylinders\""
   ]
  },
  {
   "cell_type": "code",
   "execution_count": 11,
   "metadata": {
    "id": "eGaMqvabNl_3"
   },
   "outputs": [],
   "source": [
    "new_train = train['cylinders'].str.split(\" \", n=1, expand=True)\n",
    "train['num_cylinders'] = new_train[0] \n",
    "train.drop(columns =['cylinders'], inplace = True)\n",
    "\n",
    "train = train[train['num_cylinders'] != 'other']\n",
    "\n",
    "train['num_cylinders'] = train['num_cylinders'].fillna('2')\n",
    "\n",
    "train['num_cylinders'] = train['num_cylinders'].astype(str).astype(int)"
   ]
  },
  {
   "cell_type": "markdown",
   "metadata": {
    "id": "iYY03065Qu0E"
   },
   "source": [
    "### Dropping Outliers for the \"Price\" Feature"
   ]
  },
  {
   "cell_type": "code",
   "execution_count": 12,
   "metadata": {
    "colab": {
     "base_uri": "https://localhost:8080/"
    },
    "id": "wKsQPzNhQy51",
    "outputId": "80d93c7e-2e39-411f-da92-2b6bf4b7f5a3"
   },
   "outputs": [
    {
     "name": "stdout",
     "output_type": "stream",
     "text": [
      "(319998, 9)\n"
     ]
    }
   ],
   "source": [
    "print(train.shape)"
   ]
  },
  {
   "cell_type": "code",
   "execution_count": 13,
   "metadata": {
    "colab": {
     "base_uri": "https://localhost:8080/"
    },
    "id": "ceijl7qGaeH-",
    "outputId": "7247ab6b-f333-4204-ef10-67afcb85b8c2"
   },
   "outputs": [
    {
     "name": "stdout",
     "output_type": "stream",
     "text": [
      "(287659, 9)\n"
     ]
    }
   ],
   "source": [
    "Q1_train_price = train['price'].quantile(0.25)\n",
    "Q3_train_price = train['price'].quantile(0.75)\n",
    "IQR_train_price = Q3_train_price - Q1_train_price\n",
    "\n",
    "train = train[(train['price'] > Q1_train_price - 1.5 * IQR_train_price) & (train['price'] < Q3_train_price + 1.5 * IQR_train_price)]\n",
    "train = train[train['price'] > 0]\n",
    "\n",
    "print(train.shape)"
   ]
  },
  {
   "cell_type": "markdown",
   "metadata": {
    "id": "RqoKNp9qgsDY"
   },
   "source": [
    "### Dropping Outliers for the \"Odometer\" Feature"
   ]
  },
  {
   "cell_type": "code",
   "execution_count": 14,
   "metadata": {
    "colab": {
     "base_uri": "https://localhost:8080/"
    },
    "id": "yvVgt9vdgsDZ",
    "outputId": "8cfbc968-afcd-46a7-d053-972269362199"
   },
   "outputs": [
    {
     "name": "stdout",
     "output_type": "stream",
     "text": [
      "(283738, 9)\n"
     ]
    }
   ],
   "source": [
    "Q1_train_odo = train['odometer'].quantile(0.25)\n",
    "Q3_train_odo = train['odometer'].quantile(0.75)\n",
    "IQR_train_odo = Q3_train_odo - Q1_train_odo\n",
    "\n",
    "train = train[(train['odometer'] > Q1_train_odo - 1.5 * IQR_train_odo) & (train['odometer'] < Q3_train_odo + 1.5 * IQR_train_odo)]\n",
    "train = train[train['odometer'] >= 0]\n",
    "\n",
    "print(train.shape)"
   ]
  },
  {
   "cell_type": "markdown",
   "metadata": {
    "id": "bIhVK7r2hJ4o"
   },
   "source": [
    "### Imputing Values for Categorical Features"
   ]
  },
  {
   "cell_type": "code",
   "execution_count": 15,
   "metadata": {
    "id": "yR701SnShMtT"
   },
   "outputs": [],
   "source": [
    "train_cat = ['condition', 'fuel', 'transmission', 'drive', 'type']\n",
    "train_cat_not_ordinal = ['fuel', 'transmission', 'drive', 'type']"
   ]
  },
  {
   "cell_type": "code",
   "execution_count": 16,
   "metadata": {
    "id": "kcZdHPW1HBXW"
   },
   "outputs": [],
   "source": [
    "def impute_nan_most_frequent_category(df, col_name):\n",
    "     most_frequent_category = df[col_name].mode()[0]\n",
    "     df[col_name].fillna(most_frequent_category,inplace=True)\n",
    "\n",
    "for col in train_cat:\n",
    "  impute_nan_most_frequent_category(train, col)\n",
    "\n",
    "\n",
    "# Reference: https://medium.com/analytics-vidhya/ways-to-handle-categorical-column-missing-data-its-implementations-15dc4a56893"
   ]
  },
  {
   "cell_type": "code",
   "execution_count": 17,
   "metadata": {
    "colab": {
     "base_uri": "https://localhost:8080/"
    },
    "id": "CKZdbKz8GH3W",
    "outputId": "3035a87c-3d91-4071-fde2-05aec49b46c7"
   },
   "outputs": [
    {
     "data": {
      "text/plain": [
       "price            0\n",
       "year             0\n",
       "condition        0\n",
       "fuel             0\n",
       "odometer         0\n",
       "transmission     0\n",
       "drive            0\n",
       "type             0\n",
       "num_cylinders    0\n",
       "dtype: int64"
      ]
     },
     "execution_count": 17,
     "metadata": {},
     "output_type": "execute_result"
    }
   ],
   "source": [
    "train.isnull().sum()"
   ]
  },
  {
   "cell_type": "code",
   "execution_count": 18,
   "metadata": {
    "id": "uK16VPvB3BWj"
   },
   "outputs": [],
   "source": [
    "train = pd.get_dummies(train, columns=train_cat_not_ordinal)\n",
    "\n",
    "train[\"condition\"] = train[\"condition\"].astype('category')\n",
    "\n",
    "train[\"condition\"] = train[\"condition\"].cat.codes"
   ]
  },
  {
   "cell_type": "markdown",
   "metadata": {
    "id": "OVmur6zHAzU8"
   },
   "source": [
    "### Scaling Numeric Features"
   ]
  },
  {
   "cell_type": "code",
   "execution_count": 19,
   "metadata": {
    "colab": {
     "base_uri": "https://localhost:8080/",
     "height": 239
    },
    "id": "aPDHFmo2A3B5",
    "outputId": "e5969e24-d3b4-4829-8b90-2d48cb9391c0"
   },
   "outputs": [
    {
     "data": {
      "text/html": [
       "<div>\n",
       "<style scoped>\n",
       "    .dataframe tbody tr th:only-of-type {\n",
       "        vertical-align: middle;\n",
       "    }\n",
       "\n",
       "    .dataframe tbody tr th {\n",
       "        vertical-align: top;\n",
       "    }\n",
       "\n",
       "    .dataframe thead th {\n",
       "        text-align: right;\n",
       "    }\n",
       "</style>\n",
       "<table border=\"1\" class=\"dataframe\">\n",
       "  <thead>\n",
       "    <tr style=\"text-align: right;\">\n",
       "      <th></th>\n",
       "      <th>price</th>\n",
       "      <th>year</th>\n",
       "      <th>condition</th>\n",
       "      <th>odometer</th>\n",
       "      <th>num_cylinders</th>\n",
       "      <th>fuel_diesel</th>\n",
       "      <th>fuel_electric</th>\n",
       "      <th>fuel_gas</th>\n",
       "      <th>fuel_hybrid</th>\n",
       "      <th>fuel_other</th>\n",
       "      <th>...</th>\n",
       "      <th>type_coupe</th>\n",
       "      <th>type_hatchback</th>\n",
       "      <th>type_mini-van</th>\n",
       "      <th>type_offroad</th>\n",
       "      <th>type_other</th>\n",
       "      <th>type_pickup</th>\n",
       "      <th>type_sedan</th>\n",
       "      <th>type_truck</th>\n",
       "      <th>type_van</th>\n",
       "      <th>type_wagon</th>\n",
       "    </tr>\n",
       "  </thead>\n",
       "  <tbody>\n",
       "    <tr>\n",
       "      <th>0</th>\n",
       "      <td>3495</td>\n",
       "      <td>-0.621271</td>\n",
       "      <td>2</td>\n",
       "      <td>1.615288</td>\n",
       "      <td>8</td>\n",
       "      <td>0</td>\n",
       "      <td>0</td>\n",
       "      <td>1</td>\n",
       "      <td>0</td>\n",
       "      <td>0</td>\n",
       "      <td>...</td>\n",
       "      <td>0</td>\n",
       "      <td>0</td>\n",
       "      <td>0</td>\n",
       "      <td>0</td>\n",
       "      <td>0</td>\n",
       "      <td>0</td>\n",
       "      <td>1</td>\n",
       "      <td>0</td>\n",
       "      <td>0</td>\n",
       "      <td>0</td>\n",
       "    </tr>\n",
       "    <tr>\n",
       "      <th>1</th>\n",
       "      <td>11995</td>\n",
       "      <td>0.059855</td>\n",
       "      <td>2</td>\n",
       "      <td>-0.427465</td>\n",
       "      <td>4</td>\n",
       "      <td>0</td>\n",
       "      <td>0</td>\n",
       "      <td>1</td>\n",
       "      <td>0</td>\n",
       "      <td>0</td>\n",
       "      <td>...</td>\n",
       "      <td>0</td>\n",
       "      <td>0</td>\n",
       "      <td>0</td>\n",
       "      <td>0</td>\n",
       "      <td>0</td>\n",
       "      <td>0</td>\n",
       "      <td>0</td>\n",
       "      <td>0</td>\n",
       "      <td>0</td>\n",
       "      <td>1</td>\n",
       "    </tr>\n",
       "    <tr>\n",
       "      <th>3</th>\n",
       "      <td>17900</td>\n",
       "      <td>0.059855</td>\n",
       "      <td>2</td>\n",
       "      <td>-0.779207</td>\n",
       "      <td>2</td>\n",
       "      <td>0</td>\n",
       "      <td>0</td>\n",
       "      <td>1</td>\n",
       "      <td>0</td>\n",
       "      <td>0</td>\n",
       "      <td>...</td>\n",
       "      <td>0</td>\n",
       "      <td>0</td>\n",
       "      <td>0</td>\n",
       "      <td>0</td>\n",
       "      <td>0</td>\n",
       "      <td>0</td>\n",
       "      <td>1</td>\n",
       "      <td>0</td>\n",
       "      <td>0</td>\n",
       "      <td>0</td>\n",
       "    </tr>\n",
       "    <tr>\n",
       "      <th>4</th>\n",
       "      <td>9500</td>\n",
       "      <td>-0.507750</td>\n",
       "      <td>0</td>\n",
       "      <td>-0.730312</td>\n",
       "      <td>4</td>\n",
       "      <td>0</td>\n",
       "      <td>0</td>\n",
       "      <td>1</td>\n",
       "      <td>0</td>\n",
       "      <td>0</td>\n",
       "      <td>...</td>\n",
       "      <td>0</td>\n",
       "      <td>0</td>\n",
       "      <td>0</td>\n",
       "      <td>0</td>\n",
       "      <td>0</td>\n",
       "      <td>0</td>\n",
       "      <td>0</td>\n",
       "      <td>0</td>\n",
       "      <td>0</td>\n",
       "      <td>0</td>\n",
       "    </tr>\n",
       "    <tr>\n",
       "      <th>5</th>\n",
       "      <td>4300</td>\n",
       "      <td>-0.280708</td>\n",
       "      <td>2</td>\n",
       "      <td>-0.091394</td>\n",
       "      <td>8</td>\n",
       "      <td>0</td>\n",
       "      <td>0</td>\n",
       "      <td>1</td>\n",
       "      <td>0</td>\n",
       "      <td>0</td>\n",
       "      <td>...</td>\n",
       "      <td>0</td>\n",
       "      <td>0</td>\n",
       "      <td>0</td>\n",
       "      <td>0</td>\n",
       "      <td>0</td>\n",
       "      <td>0</td>\n",
       "      <td>1</td>\n",
       "      <td>0</td>\n",
       "      <td>0</td>\n",
       "      <td>0</td>\n",
       "    </tr>\n",
       "  </tbody>\n",
       "</table>\n",
       "<p>5 rows × 29 columns</p>\n",
       "</div>"
      ],
      "text/plain": [
       "   price      year  condition  odometer  num_cylinders  fuel_diesel  \\\n",
       "0   3495 -0.621271          2  1.615288              8            0   \n",
       "1  11995  0.059855          2 -0.427465              4            0   \n",
       "3  17900  0.059855          2 -0.779207              2            0   \n",
       "4   9500 -0.507750          0 -0.730312              4            0   \n",
       "5   4300 -0.280708          2 -0.091394              8            0   \n",
       "\n",
       "   fuel_electric  fuel_gas  fuel_hybrid  fuel_other  ...  type_coupe  \\\n",
       "0              0         1            0           0  ...           0   \n",
       "1              0         1            0           0  ...           0   \n",
       "3              0         1            0           0  ...           0   \n",
       "4              0         1            0           0  ...           0   \n",
       "5              0         1            0           0  ...           0   \n",
       "\n",
       "   type_hatchback  type_mini-van  type_offroad  type_other  type_pickup  \\\n",
       "0               0              0             0           0            0   \n",
       "1               0              0             0           0            0   \n",
       "3               0              0             0           0            0   \n",
       "4               0              0             0           0            0   \n",
       "5               0              0             0           0            0   \n",
       "\n",
       "   type_sedan  type_truck  type_van  type_wagon  \n",
       "0           1           0         0           0  \n",
       "1           0           0         0           1  \n",
       "3           1           0         0           0  \n",
       "4           0           0         0           0  \n",
       "5           1           0         0           0  \n",
       "\n",
       "[5 rows x 29 columns]"
      ]
     },
     "execution_count": 19,
     "metadata": {},
     "output_type": "execute_result"
    }
   ],
   "source": [
    "ss = StandardScaler()\n",
    "train[['year', 'odometer']] = ss.fit_transform(train[['year', 'odometer']])\n",
    "train.head()"
   ]
  },
  {
   "cell_type": "markdown",
   "metadata": {
    "id": "89UuLtFvC6BQ"
   },
   "source": [
    "## LR Model"
   ]
  },
  {
   "cell_type": "code",
   "execution_count": 20,
   "metadata": {
    "colab": {
     "base_uri": "https://localhost:8080/"
    },
    "id": "6a8I17cvsXbX",
    "outputId": "9f1d73a3-ebd4-4328-a8c1-2b6b2df9b3eb"
   },
   "outputs": [
    {
     "data": {
      "text/plain": [
       "price                     0\n",
       "year                      0\n",
       "condition                 0\n",
       "odometer                  0\n",
       "num_cylinders             0\n",
       "fuel_diesel               0\n",
       "fuel_electric             0\n",
       "fuel_gas                  0\n",
       "fuel_hybrid               0\n",
       "fuel_other                0\n",
       "transmission_automatic    0\n",
       "transmission_manual       0\n",
       "transmission_other        0\n",
       "drive_4wd                 0\n",
       "drive_fwd                 0\n",
       "drive_rwd                 0\n",
       "type_SUV                  0\n",
       "type_bus                  0\n",
       "type_convertible          0\n",
       "type_coupe                0\n",
       "type_hatchback            0\n",
       "type_mini-van             0\n",
       "type_offroad              0\n",
       "type_other                0\n",
       "type_pickup               0\n",
       "type_sedan                0\n",
       "type_truck                0\n",
       "type_van                  0\n",
       "type_wagon                0\n",
       "dtype: int64"
      ]
     },
     "execution_count": 20,
     "metadata": {},
     "output_type": "execute_result"
    }
   ],
   "source": [
    "train.isnull().sum()"
   ]
  },
  {
   "cell_type": "code",
   "execution_count": 21,
   "metadata": {
    "colab": {
     "base_uri": "https://localhost:8080/"
    },
    "id": "YkzujVSfseTl",
    "outputId": "c1f9acb4-286a-45e2-b264-3d60e94c15ca"
   },
   "outputs": [
    {
     "data": {
      "text/plain": [
       "(283738, 29)"
      ]
     },
     "execution_count": 21,
     "metadata": {},
     "output_type": "execute_result"
    }
   ],
   "source": [
    "train.shape"
   ]
  },
  {
   "cell_type": "code",
   "execution_count": 22,
   "metadata": {
    "colab": {
     "base_uri": "https://localhost:8080/"
    },
    "id": "cPWIMHu_v5i5",
    "outputId": "ab2ffe25-a5a8-4107-b128-79a47375df85"
   },
   "outputs": [
    {
     "name": "stdout",
     "output_type": "stream",
     "text": [
      "<class 'pandas.core.frame.DataFrame'>\n",
      "Int64Index: 283738 entries, 0 to 320748\n",
      "Data columns (total 29 columns):\n",
      " #   Column                  Non-Null Count   Dtype  \n",
      "---  ------                  --------------   -----  \n",
      " 0   price                   283738 non-null  int64  \n",
      " 1   year                    283738 non-null  float64\n",
      " 2   condition               283738 non-null  int8   \n",
      " 3   odometer                283738 non-null  float64\n",
      " 4   num_cylinders           283738 non-null  int32  \n",
      " 5   fuel_diesel             283738 non-null  uint8  \n",
      " 6   fuel_electric           283738 non-null  uint8  \n",
      " 7   fuel_gas                283738 non-null  uint8  \n",
      " 8   fuel_hybrid             283738 non-null  uint8  \n",
      " 9   fuel_other              283738 non-null  uint8  \n",
      " 10  transmission_automatic  283738 non-null  uint8  \n",
      " 11  transmission_manual     283738 non-null  uint8  \n",
      " 12  transmission_other      283738 non-null  uint8  \n",
      " 13  drive_4wd               283738 non-null  uint8  \n",
      " 14  drive_fwd               283738 non-null  uint8  \n",
      " 15  drive_rwd               283738 non-null  uint8  \n",
      " 16  type_SUV                283738 non-null  uint8  \n",
      " 17  type_bus                283738 non-null  uint8  \n",
      " 18  type_convertible        283738 non-null  uint8  \n",
      " 19  type_coupe              283738 non-null  uint8  \n",
      " 20  type_hatchback          283738 non-null  uint8  \n",
      " 21  type_mini-van           283738 non-null  uint8  \n",
      " 22  type_offroad            283738 non-null  uint8  \n",
      " 23  type_other              283738 non-null  uint8  \n",
      " 24  type_pickup             283738 non-null  uint8  \n",
      " 25  type_sedan              283738 non-null  uint8  \n",
      " 26  type_truck              283738 non-null  uint8  \n",
      " 27  type_van                283738 non-null  uint8  \n",
      " 28  type_wagon              283738 non-null  uint8  \n",
      "dtypes: float64(2), int32(1), int64(1), int8(1), uint8(24)\n",
      "memory usage: 16.5 MB\n"
     ]
    }
   ],
   "source": [
    "train.info()"
   ]
  },
  {
   "cell_type": "code",
   "execution_count": 23,
   "metadata": {
    "id": "VnuvhVfA3eZ7"
   },
   "outputs": [],
   "source": [
    "X = train.drop(['price'], axis=1)\n",
    "y = train[['price']]"
   ]
  },
  {
   "cell_type": "code",
   "execution_count": 24,
   "metadata": {
    "colab": {
     "base_uri": "https://localhost:8080/"
    },
    "id": "kvreYAPcM5SU",
    "outputId": "6ab7c04d-cbb7-4693-d9c5-774e01e3b250"
   },
   "outputs": [
    {
     "name": "stdout",
     "output_type": "stream",
     "text": [
      "(283738, 28)\n",
      "(283738, 1)\n"
     ]
    }
   ],
   "source": [
    "print(X.shape)\n",
    "print(y.shape)"
   ]
  },
  {
   "cell_type": "code",
   "execution_count": 25,
   "metadata": {
    "colab": {
     "base_uri": "https://localhost:8080/"
    },
    "id": "pFhSuaeF4Zfp",
    "outputId": "0b9f3d25-e527-4582-8d31-2a559575da11"
   },
   "outputs": [
    {
     "name": "stdout",
     "output_type": "stream",
     "text": [
      "7779.168605889323\n",
      "22.066990575250543\n"
     ]
    }
   ],
   "source": [
    "lr = LinearRegression()\n",
    "\n",
    "scores = cross_val_score(lr, X, y, scoring = 'neg_root_mean_squared_error', cv = 5)\n",
    "\n",
    "print(np.mean(np.absolute(scores)))\n",
    "print(np.std(np.absolute(scores)))"
   ]
  },
  {
   "cell_type": "markdown",
   "metadata": {
    "id": "fRTX42NFXKXp"
   },
   "source": [
    "# **II - Feature Engineering**"
   ]
  },
  {
   "cell_type": "markdown",
   "metadata": {
    "id": "luWppp4b3Iat"
   },
   "source": [
    "At this stage, further pre-processing is done to lower the RMSE. Here, I added two features to the model: the 'paint_color' feature and the 'state' feature. First, I added the 'paint_color' feature and realized that the RMSE decreased. When I added the 'state' feature, it decreased further. \n",
    "\n",
    "I also tried adding the 'manufacturer' feature to the model; however, it resulted in an extremely high RMSE. Despite this, I thought that the 'manufacturer' feature was an important feature when buying a used car. To include the 'manufacturer' feature without significantly increasing the RMSE, I created a new feature called 'is_luxury', which is equal to 1 if the manufacturer is considered to be a luxury brand, and 0 otherwise. The selection of luxury brands was done through research and general knowledge (e.g.: Ferrari and Mercedes-Benz are well-known luxury brands). Adding the feature slightly decreased the RMSE. \n",
    "\n",
    "I also tried adding the 'region' and 'model' features separate times with failure due to them requiring a large amount of processing power. I thought it would be best to omit these two features from the model since the features are too detailed in my opinion, and a one-hot encoding of those features would dramatically increase the number of features which isn't good for the model.\n",
    "\n",
    "Similar pre-processing techniques done in the first stage (imputation of missing values, removal of outliers, changing the data type of the 'cylinders' feature, etc.) were also done in this stage. Unlike the first stage, however, a QuantileTransformer was used to scale the numeric features instead of the StandardScaler. The QuantileTransformer decreased the RMSE.\n",
    "\n",
    "In the end, the RMSE approximately decreases t around 6,685 with a standard deviation of around 8.7 (a 14% decrease compared to the first RMSE of 7,779)."
   ]
  },
  {
   "cell_type": "code",
   "execution_count": 26,
   "metadata": {
    "colab": {
     "base_uri": "https://localhost:8080/"
    },
    "id": "iFYWsZuZ3L-V",
    "outputId": "3bb944cd-7c74-4cbd-dd10-852013a4aeae"
   },
   "outputs": [
    {
     "name": "stdout",
     "output_type": "stream",
     "text": [
      "   price  condition  odometer   car_age  num_cylinders  is_luxury  \\\n",
      "0   3495          2  0.912913  0.860360       0.907407          1   \n",
      "1  11995          2  0.377472  0.612112       0.117618          0   \n",
      "3  17900          2  0.281283  0.612112       0.528529          1   \n",
      "4   9500          0  0.294650  0.827828       0.117618          0   \n",
      "6  29900          2  0.921922  0.394895       0.528529          0   \n",
      "\n",
      "   state_region_northeast  state_region_midwest  state_region_south  \\\n",
      "0                       0                     1                   0   \n",
      "1                       0                     0                   0   \n",
      "3                       0                     0                   0   \n",
      "4                       0                     0                   1   \n",
      "6                       0                     1                   0   \n",
      "\n",
      "   state_region_west  ...  type_coupe  type_hatchback  type_mini-van  \\\n",
      "0                  0  ...           0               0              0   \n",
      "1                  1  ...           0               0              0   \n",
      "3                  1  ...           0               0              0   \n",
      "4                  0  ...           0               0              0   \n",
      "6                  0  ...           0               0              0   \n",
      "\n",
      "   type_offroad  type_other  type_pickup  type_sedan  type_truck  type_van  \\\n",
      "0             0           0            0           1           0         0   \n",
      "1             0           0            0           0           0         0   \n",
      "3             0           0            0           1           0         0   \n",
      "4             0           0            0           0           0         0   \n",
      "6             0           1            0           0           0         0   \n",
      "\n",
      "   type_wagon  \n",
      "0           0  \n",
      "1           1  \n",
      "3           0  \n",
      "4           0  \n",
      "6           0  \n",
      "\n",
      "[5 rows x 46 columns]\n",
      "6684.109530667197\n",
      "8.547638133454265\n"
     ]
    }
   ],
   "source": [
    "# Dropping Columns\n",
    "train1 = train1.drop(['id', 'region', 'lat', 'long', 'posting_date', 'model'], axis=1)\n",
    "\n",
    "# Creating the \"Age\" Feature\n",
    "train1['car_age'] = 2020 - train1['year']\n",
    "train1 = train1.drop(['year'], axis = 1)\n",
    "\n",
    "# Changing the Data Type of \"Cylinders\" & Imputing Missing Values\n",
    "new_train1 = train1['cylinders'].str.split(\" \", n=1, expand=True)\n",
    "train1['num_cylinders'] = new_train1[0] \n",
    "train1.drop(columns =['cylinders'], inplace = True)\n",
    "\n",
    "train1 = train1[train1['num_cylinders'] != 'other']\n",
    "train1['num_cylinders'] = train1['num_cylinders'].fillna('6')\n",
    "train1['num_cylinders'] = train1['num_cylinders'].astype(str).astype(int)\n",
    "\n",
    "# Dropping Outliers from \"Price\" Feature\n",
    "Q1_train1_price = train1['price'].quantile(0.25)\n",
    "Q3_train1_price = train1['price'].quantile(0.75)\n",
    "IQR_train1_price = Q3_train1_price - Q1_train1_price\n",
    "\n",
    "train1 = train1[(train1['price'] > Q1_train1_price - 1.5 * IQR_train1_price) & (train1['price'] < Q3_train1_price + 1.5 * IQR_train1_price)]\n",
    "train1 = train1[train1['price'] > 0]\n",
    "\n",
    "# Dropping Outliers from the \"Odometer\" Feature\n",
    "Q1_train1_odo = train1['odometer'].quantile(0.25)\n",
    "Q3_train1_odo = train1['odometer'].quantile(0.75)\n",
    "IQR_train1_odo = Q3_train1_odo - Q1_train1_odo\n",
    "\n",
    "train1 = train1[(train1['odometer'] > Q1_train1_odo - 1.5 * IQR_train1_odo) & (train1['odometer'] < Q3_train1_odo + 1.5 * IQR_train1_odo)]\n",
    "train1 = train1[train1['odometer'] > 0]\n",
    "\n",
    "# Adding \"Is Luxury?\" Category (from \"Manufacturer\" category)\n",
    "lux = ['bmw', 'mercedes-benz', 'chrysler', 'lexus', 'cadillac', 'buick', 'audi', 'acura', 'infiniti', 'lincoln', 'volvo', 'mini', 'porsche', 'saturn',\n",
    "       'jaguar', 'tesla', 'alfa-romeo', 'land rover', 'aston-martin', 'hennessey', 'ferrari']\n",
    "x = list(train1['manufacturer'])\n",
    "y = []\n",
    "\n",
    "for car in x:\n",
    "  if car in lux:\n",
    "    y.append(1)\n",
    "  else:\n",
    "    y.append(0)\n",
    "\n",
    "y = pd.Series(y)\n",
    "train1['is_luxury'] = y.values\n",
    "\n",
    "train1 = train1.drop(['manufacturer'], axis = 1)\n",
    "\n",
    "# Adding the \"Region\" Category (from \"State\" Category)\n",
    "northeast = ['ct', 'me', 'ma', 'nh', 'ri', 'vt', 'nj', 'ny', 'pa']\n",
    "midwest = ['il', 'in', 'mi', 'oh', 'wi', 'ia', 'ks', 'mn', 'mo', 'ne', 'nd', 'sd']\n",
    "south = ['de', 'fl', 'ga', 'md', 'nc', 'sc', 'va', 'dc', 'wv', 'al', 'ky', 'ms', 'tn', 'ar', 'la', 'ok', 'tx']\n",
    "west = ['az', 'co', 'id', 'mt', 'nv', 'nm', 'ut', 'wy', 'ak', 'ca', 'hi', 'or', 'wa']\n",
    "\n",
    "ne_list = []\n",
    "mw_list = []\n",
    "south_list = []\n",
    "west_list = []\n",
    "\n",
    "for state in list(train1['state']):\n",
    "  if state in northeast:\n",
    "    ne_list.append(1)\n",
    "  else:\n",
    "    ne_list.append(0)\n",
    "  \n",
    "  if state in midwest:\n",
    "    mw_list.append(1)\n",
    "  else:\n",
    "    mw_list.append(0)\n",
    "  \n",
    "  if state in south:\n",
    "    south_list.append(1)\n",
    "  else:\n",
    "    south_list.append(0)\n",
    "\n",
    "  if state in west:\n",
    "    west_list.append(1)\n",
    "  else:\n",
    "    west_list.append(0)\n",
    "\n",
    "ne_list = pd.Series(ne_list)\n",
    "mw_list = pd.Series(mw_list)\n",
    "south_list = pd.Series(south_list)\n",
    "west_list = pd.Series(west_list)\n",
    "\n",
    "train1['state_region_northeast'] = ne_list.values\n",
    "train1['state_region_midwest'] = mw_list.values\n",
    "train1['state_region_south'] = south_list.values\n",
    "train1['state_region_west'] = west_list.values\n",
    "\n",
    "train1 = train1.drop(['state'], axis = 1)\n",
    "\n",
    "# Imputing Missing Values for Categorical Features\n",
    "train1_cat = ['condition', 'fuel', 'transmission', 'drive', 'paint_color', 'type']\n",
    "train1_cat_not_ordinal = ['fuel', 'transmission', 'drive', 'paint_color', 'type']\n",
    "\n",
    "for col1 in train1_cat:\n",
    "  impute_nan_most_frequent_category(train1, col1)\n",
    "\n",
    "########################################\n",
    "train3 = train1.copy()\n",
    "########################################\n",
    "\n",
    "# Imputing Missing Values for Numeric Features\n",
    "train1['car_age'] = train1['car_age'].fillna(train1['car_age'].median())\n",
    "train1['odometer'] = train1['odometer'].fillna(train1['odometer'].median())\n",
    "train1['num_cylinders'] = train1['num_cylinders'].fillna(train1['num_cylinders'].median())\n",
    "\n",
    "## Ordinal Encoding of Ordinal Categorical Features\n",
    "train1[\"condition\"] = train1[\"condition\"].astype('category')\n",
    "train1[\"condition\"] = train1[\"condition\"].cat.codes\n",
    "\n",
    "## One-Hot Encoding of Non-Ordinal Categorical Features\n",
    "train1 = pd.get_dummies(train1, columns=train1_cat_not_ordinal)\n",
    "\n",
    "# Scaling Numeric Features\n",
    "qt = QuantileTransformer()\n",
    "\n",
    "train1[['car_age', 'odometer', 'num_cylinders']] = qt.fit_transform(train1[['car_age', 'odometer', 'num_cylinders']])\n",
    "print(train1.head())\n",
    "\n",
    "# LR Model - RMSE & Std. Deviation\n",
    "X1 = train1.drop(['price'], axis=1)\n",
    "y1 = train1[['price']]\n",
    "\n",
    "########################################\n",
    "X3 = X1.copy()\n",
    "y3 = y1.copy()\n",
    "########################################\n",
    "\n",
    "scores1 = cross_val_score(lr, X1, y1, scoring = 'neg_root_mean_squared_error', cv = 5)\n",
    "\n",
    "print(np.mean(np.absolute(scores1)))\n",
    "print(np.std(np.absolute(scores1)))"
   ]
  },
  {
   "cell_type": "markdown",
   "metadata": {
    "id": "EbkKhq4HUCU_"
   },
   "source": [
    "# **III - Model Optimization and Selection**"
   ]
  },
  {
   "cell_type": "markdown",
   "metadata": {
    "id": "3oY7r-1Ar9ns"
   },
   "source": [
    "Three different ML algorithms were used to decide on the optimal model (the one leading to the lowest RMSE). The models were: Decision Tree, Random Forest Regressor, and Gradient Boosting Regressor. The optimal values for hyperparameters of these algorithms were found using GridSearchCV. Due to time constraints, only two hyperparameters were optimized: the 'max_depth' hyperparameter and the 'max_features' hyperparameter. For the 'max_depth' feature, a value between 4 and 8 were tested for optimality; the maximum value of 12 is set to prevent overfitting. For 'max_features', the values tested were: ['sqrt', 0.25, 0.5, 0.75, 1]. In addition, two values of the hyperparameters were tested separate times, instead of the whole set of values to be tested at once to save time.\n",
    "\n",
    "In the end, all three models yielded the same optimal values for hyperparameters, with an optimal 'max_depth' value of 12 and a 'max_features' value of 0.75.\n",
    "\n",
    "Computation of the RMSE and the standard deviation found that all three models decreased the RMSE. However, the optimal model was found to be the Gradient Boosting Regressor, with an RMSE of around 4,878 and a standard deviation of around 13.\n",
    "\n",
    "A LinearSVC model was also tested. However, due to high running time, it is not included in the code. The LinearSVC did not yield an optimal model."
   ]
  },
  {
   "cell_type": "markdown",
   "metadata": {
    "id": "WkNox6Ikd_Rg"
   },
   "source": [
    "## Decision Tree"
   ]
  },
  {
   "cell_type": "code",
   "execution_count": 27,
   "metadata": {
    "colab": {
     "base_uri": "https://localhost:8080/"
    },
    "id": "dKK07J93eBfh",
    "outputId": "37177298-d96a-4b32-a79c-4747c4864703"
   },
   "outputs": [
    {
     "data": {
      "text/plain": [
       "{'max_depth': 12, 'max_features': 0.75}"
      ]
     },
     "execution_count": 27,
     "metadata": {},
     "output_type": "execute_result"
    }
   ],
   "source": [
    "dtr = DecisionTreeRegressor(random_state=42)\n",
    "\n",
    "grid_values_dtr = {'max_depth': [10,12],\n",
    "                  'max_features': ['sqrt', 0.75, 1]\n",
    "                  }\n",
    "\n",
    "grid_search_dtr = GridSearchCV(dtr, param_grid = grid_values_dtr, scoring = 'neg_root_mean_squared_error', n_jobs = -1)\n",
    "grid_search_dtr.fit(X1, y1)\n",
    "\n",
    "grid_search_dtr.best_params_"
   ]
  },
  {
   "cell_type": "markdown",
   "metadata": {
    "id": "3qPGP6yuQNdA"
   },
   "source": [
    "## Random Forest Regressor"
   ]
  },
  {
   "cell_type": "code",
   "execution_count": 28,
   "metadata": {
    "colab": {
     "base_uri": "https://localhost:8080/"
    },
    "id": "tFROTqAcSyND",
    "outputId": "22291399-73f6-4003-9b60-9c4a0b6da6c1"
   },
   "outputs": [
    {
     "name": "stderr",
     "output_type": "stream",
     "text": [
      "C:\\Users\\motay\\Anaconda3\\lib\\site-packages\\sklearn\\model_selection\\_search.py:765: DataConversionWarning: A column-vector y was passed when a 1d array was expected. Please change the shape of y to (n_samples,), for example using ravel().\n",
      "  self.best_estimator_.fit(X, y, **fit_params)\n"
     ]
    },
    {
     "data": {
      "text/plain": [
       "{'max_depth': 12, 'max_features': 0.75}"
      ]
     },
     "execution_count": 28,
     "metadata": {},
     "output_type": "execute_result"
    }
   ],
   "source": [
    "rfr = RandomForestRegressor(random_state=42)\n",
    "\n",
    "grid_values_rfr = {'max_depth': [10,12],\n",
    "                  'max_features': ['sqrt', 0.75, 1]\n",
    "                  }\n",
    "\n",
    "grid_search_rfr = GridSearchCV(rfr, param_grid = grid_values_rfr, scoring = 'neg_root_mean_squared_error', n_jobs = -1)\n",
    "grid_search_rfr.fit(X1, y1)\n",
    "\n",
    "grid_search_rfr.best_params_"
   ]
  },
  {
   "cell_type": "markdown",
   "metadata": {
    "id": "h2GHPcXffU9S"
   },
   "source": [
    "## Gradient Boosting Regressor"
   ]
  },
  {
   "cell_type": "code",
   "execution_count": 29,
   "metadata": {
    "colab": {
     "base_uri": "https://localhost:8080/"
    },
    "id": "S5VHQTRHfYev",
    "outputId": "8baffc2a-df74-4470-c418-091c5cd09203"
   },
   "outputs": [
    {
     "name": "stderr",
     "output_type": "stream",
     "text": [
      "C:\\Users\\motay\\Anaconda3\\lib\\site-packages\\sklearn\\utils\\validation.py:72: DataConversionWarning: A column-vector y was passed when a 1d array was expected. Please change the shape of y to (n_samples, ), for example using ravel().\n",
      "  return f(**kwargs)\n"
     ]
    },
    {
     "data": {
      "text/plain": [
       "{'max_depth': 12, 'max_features': 0.75}"
      ]
     },
     "execution_count": 29,
     "metadata": {},
     "output_type": "execute_result"
    }
   ],
   "source": [
    "gbr = GradientBoostingRegressor(random_state=42)\n",
    "\n",
    "grid_values_gbr = {'max_depth': [10,12],\n",
    "                  'max_features': ['sqrt', 0.75, 1]\n",
    "                  }\n",
    "\n",
    "grid_search_gbr = GridSearchCV(gbr, param_grid = grid_values_gbr, scoring = 'neg_root_mean_squared_error', n_jobs = -1)\n",
    "grid_search_gbr.fit(X1, y1)\n",
    "\n",
    "grid_search_gbr.best_params_"
   ]
  },
  {
   "cell_type": "markdown",
   "metadata": {
    "id": "_E0l0-WgvkCH"
   },
   "source": [
    "## RMSE & Standard Deviation Computation"
   ]
  },
  {
   "cell_type": "code",
   "execution_count": 30,
   "metadata": {
    "colab": {
     "base_uri": "https://localhost:8080/"
    },
    "id": "yYBJN_oMvoGI",
    "outputId": "d350cdc7-4bf3-4d9f-dc57-2c566ba0720e",
    "scrolled": true
   },
   "outputs": [
    {
     "name": "stdout",
     "output_type": "stream",
     "text": [
      "5846.466658672378\n",
      "22.116311950040973\n"
     ]
    }
   ],
   "source": [
    "# Decision Tree\n",
    "dtr_optimal = grid_search_dtr.best_estimator_\n",
    "\n",
    "scores_dtr = cross_val_score(dtr_optimal, X1, y1, scoring = 'neg_root_mean_squared_error', cv = 5)\n",
    "\n",
    "print(np.mean(np.absolute(scores_dtr)))\n",
    "print(np.std(np.absolute(scores_dtr)))"
   ]
  },
  {
   "cell_type": "code",
   "execution_count": 31,
   "metadata": {},
   "outputs": [
    {
     "name": "stderr",
     "output_type": "stream",
     "text": [
      "C:\\Users\\motay\\Anaconda3\\lib\\site-packages\\sklearn\\model_selection\\_validation.py:531: DataConversionWarning: A column-vector y was passed when a 1d array was expected. Please change the shape of y to (n_samples,), for example using ravel().\n",
      "  estimator.fit(X_train, y_train, **fit_params)\n",
      "C:\\Users\\motay\\Anaconda3\\lib\\site-packages\\sklearn\\model_selection\\_validation.py:531: DataConversionWarning: A column-vector y was passed when a 1d array was expected. Please change the shape of y to (n_samples,), for example using ravel().\n",
      "  estimator.fit(X_train, y_train, **fit_params)\n",
      "C:\\Users\\motay\\Anaconda3\\lib\\site-packages\\sklearn\\model_selection\\_validation.py:531: DataConversionWarning: A column-vector y was passed when a 1d array was expected. Please change the shape of y to (n_samples,), for example using ravel().\n",
      "  estimator.fit(X_train, y_train, **fit_params)\n",
      "C:\\Users\\motay\\Anaconda3\\lib\\site-packages\\sklearn\\model_selection\\_validation.py:531: DataConversionWarning: A column-vector y was passed when a 1d array was expected. Please change the shape of y to (n_samples,), for example using ravel().\n",
      "  estimator.fit(X_train, y_train, **fit_params)\n",
      "C:\\Users\\motay\\Anaconda3\\lib\\site-packages\\sklearn\\model_selection\\_validation.py:531: DataConversionWarning: A column-vector y was passed when a 1d array was expected. Please change the shape of y to (n_samples,), for example using ravel().\n",
      "  estimator.fit(X_train, y_train, **fit_params)\n"
     ]
    },
    {
     "name": "stdout",
     "output_type": "stream",
     "text": [
      "5490.037327610476\n",
      "15.977946882574564\n"
     ]
    }
   ],
   "source": [
    "# Random Forest\n",
    "rfr_optimal = grid_search_rfr.best_estimator_\n",
    "\n",
    "scores_rfr = cross_val_score(rfr_optimal, X1, y1, scoring = 'neg_root_mean_squared_error', cv = 5)\n",
    "\n",
    "print(np.mean(np.absolute(scores_rfr)))\n",
    "print(np.std(np.absolute(scores_rfr)))"
   ]
  },
  {
   "cell_type": "code",
   "execution_count": 32,
   "metadata": {},
   "outputs": [
    {
     "name": "stderr",
     "output_type": "stream",
     "text": [
      "C:\\Users\\motay\\Anaconda3\\lib\\site-packages\\sklearn\\utils\\validation.py:72: DataConversionWarning: A column-vector y was passed when a 1d array was expected. Please change the shape of y to (n_samples, ), for example using ravel().\n",
      "  return f(**kwargs)\n",
      "C:\\Users\\motay\\Anaconda3\\lib\\site-packages\\sklearn\\utils\\validation.py:72: DataConversionWarning: A column-vector y was passed when a 1d array was expected. Please change the shape of y to (n_samples, ), for example using ravel().\n",
      "  return f(**kwargs)\n",
      "C:\\Users\\motay\\Anaconda3\\lib\\site-packages\\sklearn\\utils\\validation.py:72: DataConversionWarning: A column-vector y was passed when a 1d array was expected. Please change the shape of y to (n_samples, ), for example using ravel().\n",
      "  return f(**kwargs)\n",
      "C:\\Users\\motay\\Anaconda3\\lib\\site-packages\\sklearn\\utils\\validation.py:72: DataConversionWarning: A column-vector y was passed when a 1d array was expected. Please change the shape of y to (n_samples, ), for example using ravel().\n",
      "  return f(**kwargs)\n",
      "C:\\Users\\motay\\Anaconda3\\lib\\site-packages\\sklearn\\utils\\validation.py:72: DataConversionWarning: A column-vector y was passed when a 1d array was expected. Please change the shape of y to (n_samples, ), for example using ravel().\n",
      "  return f(**kwargs)\n"
     ]
    },
    {
     "name": "stdout",
     "output_type": "stream",
     "text": [
      "4877.147859337312\n",
      "13.566620886414048\n"
     ]
    }
   ],
   "source": [
    "# Gradient Boosting\n",
    "gbr_optimal = grid_search_gbr.best_estimator_\n",
    "\n",
    "scores_gbr = cross_val_score(gbr_optimal, X1, y1, scoring = 'neg_root_mean_squared_error', cv = 5)\n",
    "\n",
    "print(np.mean(np.absolute(scores_gbr)))\n",
    "print(np.std(np.absolute(scores_gbr)))"
   ]
  },
  {
   "cell_type": "markdown",
   "metadata": {
    "id": "YpMIks9I1sb7"
   },
   "source": [
    "# **IV- Feature Selection**"
   ]
  },
  {
   "cell_type": "markdown",
   "metadata": {
    "id": "75JSl-zp6VWs"
   },
   "source": [
    "To compute the important features in our model, the feature importances must be calculated. To do so, I instantiated the target label and the target features on our optimal Random Forest Regressor model. Following this, it was possible to graph the importance of features. Some key important features were 'car_age', 'odometer', and 'num_cylinders'. What surprised me here is the importance of the 'condition' feature; while still important, it was less than I thought it would be.\n",
    "\n",
    "In addition to the following, I computed feature importances using RFECV (not included in the code due to high running time), which yielded similar results to .feature_importances_.\n",
    "\n",
    "Unimportant features that were dropped included some of the 'paint_color' features (such as brown and purple cars (this makes sense because they're ugly colors for cars in my opinion)) as well as some of the 'type' features (such as buses (buses are not vehicles one can normally drive)).\n",
    "\n",
    "10 features were dropped out of 45 (i.e. there are now 35 features in the model). Dropping the features led to a 22% decrease in the number of features.\n",
    "\n",
    "After dropping these features, the RMSE decreased by approzimately 0.55% compared to the original Gradient Boosting Regressor RMSE."
   ]
  },
  {
   "cell_type": "markdown",
   "metadata": {
    "id": "gQeDY1Y42WaH"
   },
   "source": [
    "## Using .feature_importances_"
   ]
  },
  {
   "cell_type": "code",
   "execution_count": 33,
   "metadata": {
    "colab": {
     "base_uri": "https://localhost:8080/",
     "height": 1000
    },
    "id": "zLBRIQM_4qTf",
    "outputId": "4ff0671b-9a10-4082-b666-5e680befd88b"
   },
   "outputs": [
    {
     "data": {
      "image/png": "[encoded data removed]",
      "text/plain": [
       "<Figure size 576x1296 with 1 Axes>"
      ]
     },
     "metadata": {
      "needs_background": "light"
     },
     "output_type": "display_data"
    }
   ],
   "source": [
    "feature_importance = gbr_optimal.feature_importances_\n",
    "\n",
    "sorted_idx = np.argsort(feature_importance)\n",
    "pos = np.arange(sorted_idx.shape[0]) + .5\n",
    "\n",
    "plt.figure(figsize=(8, 18))\n",
    "plt.barh(pos, feature_importance[sorted_idx], align='center')\n",
    "plt.yticks(pos, X1.keys()[sorted_idx])\n",
    "plt.xlabel('Feature Importance')\n",
    "plt.title('Variable Importance')\n",
    "plt.show()\n",
    "\n",
    "# Reference: https://stackoverflow.com/questions/24255723/sklearn-logistic-regression-important-features"
   ]
  },
  {
   "cell_type": "code",
   "execution_count": 34,
   "metadata": {
    "colab": {
     "base_uri": "https://localhost:8080/",
     "height": 1000
    },
    "id": "DXfyABVB_TnU",
    "outputId": "d33af50b-a497-4ecd-e7e4-0ecae2b91352"
   },
   "outputs": [
    {
     "data": {
      "text/html": [
       "<div>\n",
       "<style scoped>\n",
       "    .dataframe tbody tr th:only-of-type {\n",
       "        vertical-align: middle;\n",
       "    }\n",
       "\n",
       "    .dataframe tbody tr th {\n",
       "        vertical-align: top;\n",
       "    }\n",
       "\n",
       "    .dataframe thead th {\n",
       "        text-align: right;\n",
       "    }\n",
       "</style>\n",
       "<table border=\"1\" class=\"dataframe\">\n",
       "  <thead>\n",
       "    <tr style=\"text-align: right;\">\n",
       "      <th></th>\n",
       "      <th>feature</th>\n",
       "      <th>importance</th>\n",
       "    </tr>\n",
       "  </thead>\n",
       "  <tbody>\n",
       "    <tr>\n",
       "      <th>0</th>\n",
       "      <td>condition</td>\n",
       "      <td>0.013452</td>\n",
       "    </tr>\n",
       "    <tr>\n",
       "      <th>1</th>\n",
       "      <td>odometer</td>\n",
       "      <td>0.223446</td>\n",
       "    </tr>\n",
       "    <tr>\n",
       "      <th>2</th>\n",
       "      <td>car_age</td>\n",
       "      <td>0.368136</td>\n",
       "    </tr>\n",
       "    <tr>\n",
       "      <th>3</th>\n",
       "      <td>num_cylinders</td>\n",
       "      <td>0.088997</td>\n",
       "    </tr>\n",
       "    <tr>\n",
       "      <th>4</th>\n",
       "      <td>is_luxury</td>\n",
       "      <td>0.014442</td>\n",
       "    </tr>\n",
       "    <tr>\n",
       "      <th>5</th>\n",
       "      <td>state_region_northeast</td>\n",
       "      <td>0.004041</td>\n",
       "    </tr>\n",
       "    <tr>\n",
       "      <th>6</th>\n",
       "      <td>state_region_midwest</td>\n",
       "      <td>0.002962</td>\n",
       "    </tr>\n",
       "    <tr>\n",
       "      <th>7</th>\n",
       "      <td>state_region_south</td>\n",
       "      <td>0.002966</td>\n",
       "    </tr>\n",
       "    <tr>\n",
       "      <th>8</th>\n",
       "      <td>state_region_west</td>\n",
       "      <td>0.007326</td>\n",
       "    </tr>\n",
       "    <tr>\n",
       "      <th>9</th>\n",
       "      <td>fuel_diesel</td>\n",
       "      <td>0.052186</td>\n",
       "    </tr>\n",
       "    <tr>\n",
       "      <th>10</th>\n",
       "      <td>fuel_electric</td>\n",
       "      <td>0.002083</td>\n",
       "    </tr>\n",
       "    <tr>\n",
       "      <th>11</th>\n",
       "      <td>fuel_gas</td>\n",
       "      <td>0.006134</td>\n",
       "    </tr>\n",
       "    <tr>\n",
       "      <th>12</th>\n",
       "      <td>fuel_hybrid</td>\n",
       "      <td>0.000994</td>\n",
       "    </tr>\n",
       "    <tr>\n",
       "      <th>13</th>\n",
       "      <td>fuel_other</td>\n",
       "      <td>0.003784</td>\n",
       "    </tr>\n",
       "    <tr>\n",
       "      <th>14</th>\n",
       "      <td>transmission_automatic</td>\n",
       "      <td>0.005039</td>\n",
       "    </tr>\n",
       "    <tr>\n",
       "      <th>15</th>\n",
       "      <td>transmission_manual</td>\n",
       "      <td>0.002164</td>\n",
       "    </tr>\n",
       "    <tr>\n",
       "      <th>16</th>\n",
       "      <td>transmission_other</td>\n",
       "      <td>0.005692</td>\n",
       "    </tr>\n",
       "    <tr>\n",
       "      <th>17</th>\n",
       "      <td>drive_4wd</td>\n",
       "      <td>0.006189</td>\n",
       "    </tr>\n",
       "    <tr>\n",
       "      <th>18</th>\n",
       "      <td>drive_fwd</td>\n",
       "      <td>0.101051</td>\n",
       "    </tr>\n",
       "    <tr>\n",
       "      <th>19</th>\n",
       "      <td>drive_rwd</td>\n",
       "      <td>0.004091</td>\n",
       "    </tr>\n",
       "    <tr>\n",
       "      <th>20</th>\n",
       "      <td>paint_color_black</td>\n",
       "      <td>0.002830</td>\n",
       "    </tr>\n",
       "    <tr>\n",
       "      <th>21</th>\n",
       "      <td>paint_color_blue</td>\n",
       "      <td>0.001658</td>\n",
       "    </tr>\n",
       "    <tr>\n",
       "      <th>22</th>\n",
       "      <td>paint_color_brown</td>\n",
       "      <td>0.000515</td>\n",
       "    </tr>\n",
       "    <tr>\n",
       "      <th>23</th>\n",
       "      <td>paint_color_custom</td>\n",
       "      <td>0.000950</td>\n",
       "    </tr>\n",
       "    <tr>\n",
       "      <th>24</th>\n",
       "      <td>paint_color_green</td>\n",
       "      <td>0.000588</td>\n",
       "    </tr>\n",
       "    <tr>\n",
       "      <th>25</th>\n",
       "      <td>paint_color_grey</td>\n",
       "      <td>0.001472</td>\n",
       "    </tr>\n",
       "    <tr>\n",
       "      <th>26</th>\n",
       "      <td>paint_color_orange</td>\n",
       "      <td>0.000438</td>\n",
       "    </tr>\n",
       "    <tr>\n",
       "      <th>27</th>\n",
       "      <td>paint_color_purple</td>\n",
       "      <td>0.000124</td>\n",
       "    </tr>\n",
       "    <tr>\n",
       "      <th>28</th>\n",
       "      <td>paint_color_red</td>\n",
       "      <td>0.001824</td>\n",
       "    </tr>\n",
       "    <tr>\n",
       "      <th>29</th>\n",
       "      <td>paint_color_silver</td>\n",
       "      <td>0.001975</td>\n",
       "    </tr>\n",
       "    <tr>\n",
       "      <th>30</th>\n",
       "      <td>paint_color_white</td>\n",
       "      <td>0.007476</td>\n",
       "    </tr>\n",
       "    <tr>\n",
       "      <th>31</th>\n",
       "      <td>paint_color_yellow</td>\n",
       "      <td>0.000623</td>\n",
       "    </tr>\n",
       "    <tr>\n",
       "      <th>32</th>\n",
       "      <td>type_SUV</td>\n",
       "      <td>0.004539</td>\n",
       "    </tr>\n",
       "    <tr>\n",
       "      <th>33</th>\n",
       "      <td>type_bus</td>\n",
       "      <td>0.000291</td>\n",
       "    </tr>\n",
       "    <tr>\n",
       "      <th>34</th>\n",
       "      <td>type_convertible</td>\n",
       "      <td>0.001380</td>\n",
       "    </tr>\n",
       "    <tr>\n",
       "      <th>35</th>\n",
       "      <td>type_coupe</td>\n",
       "      <td>0.002377</td>\n",
       "    </tr>\n",
       "    <tr>\n",
       "      <th>36</th>\n",
       "      <td>type_hatchback</td>\n",
       "      <td>0.004509</td>\n",
       "    </tr>\n",
       "    <tr>\n",
       "      <th>37</th>\n",
       "      <td>type_mini-van</td>\n",
       "      <td>0.000389</td>\n",
       "    </tr>\n",
       "    <tr>\n",
       "      <th>38</th>\n",
       "      <td>type_offroad</td>\n",
       "      <td>0.000414</td>\n",
       "    </tr>\n",
       "    <tr>\n",
       "      <th>39</th>\n",
       "      <td>type_other</td>\n",
       "      <td>0.004751</td>\n",
       "    </tr>\n",
       "    <tr>\n",
       "      <th>40</th>\n",
       "      <td>type_pickup</td>\n",
       "      <td>0.018778</td>\n",
       "    </tr>\n",
       "    <tr>\n",
       "      <th>41</th>\n",
       "      <td>type_sedan</td>\n",
       "      <td>0.016019</td>\n",
       "    </tr>\n",
       "    <tr>\n",
       "      <th>42</th>\n",
       "      <td>type_truck</td>\n",
       "      <td>0.007435</td>\n",
       "    </tr>\n",
       "    <tr>\n",
       "      <th>43</th>\n",
       "      <td>type_van</td>\n",
       "      <td>0.002447</td>\n",
       "    </tr>\n",
       "    <tr>\n",
       "      <th>44</th>\n",
       "      <td>type_wagon</td>\n",
       "      <td>0.001023</td>\n",
       "    </tr>\n",
       "  </tbody>\n",
       "</table>\n",
       "</div>"
      ],
      "text/plain": [
       "                   feature  importance\n",
       "0                condition    0.013452\n",
       "1                 odometer    0.223446\n",
       "2                  car_age    0.368136\n",
       "3            num_cylinders    0.088997\n",
       "4                is_luxury    0.014442\n",
       "5   state_region_northeast    0.004041\n",
       "6     state_region_midwest    0.002962\n",
       "7       state_region_south    0.002966\n",
       "8        state_region_west    0.007326\n",
       "9              fuel_diesel    0.052186\n",
       "10           fuel_electric    0.002083\n",
       "11                fuel_gas    0.006134\n",
       "12             fuel_hybrid    0.000994\n",
       "13              fuel_other    0.003784\n",
       "14  transmission_automatic    0.005039\n",
       "15     transmission_manual    0.002164\n",
       "16      transmission_other    0.005692\n",
       "17               drive_4wd    0.006189\n",
       "18               drive_fwd    0.101051\n",
       "19               drive_rwd    0.004091\n",
       "20       paint_color_black    0.002830\n",
       "21        paint_color_blue    0.001658\n",
       "22       paint_color_brown    0.000515\n",
       "23      paint_color_custom    0.000950\n",
       "24       paint_color_green    0.000588\n",
       "25        paint_color_grey    0.001472\n",
       "26      paint_color_orange    0.000438\n",
       "27      paint_color_purple    0.000124\n",
       "28         paint_color_red    0.001824\n",
       "29      paint_color_silver    0.001975\n",
       "30       paint_color_white    0.007476\n",
       "31      paint_color_yellow    0.000623\n",
       "32                type_SUV    0.004539\n",
       "33                type_bus    0.000291\n",
       "34        type_convertible    0.001380\n",
       "35              type_coupe    0.002377\n",
       "36          type_hatchback    0.004509\n",
       "37           type_mini-van    0.000389\n",
       "38            type_offroad    0.000414\n",
       "39              type_other    0.004751\n",
       "40             type_pickup    0.018778\n",
       "41              type_sedan    0.016019\n",
       "42              type_truck    0.007435\n",
       "43                type_van    0.002447\n",
       "44              type_wagon    0.001023"
      ]
     },
     "execution_count": 34,
     "metadata": {},
     "output_type": "execute_result"
    }
   ],
   "source": [
    "feature_extraction = pd.DataFrame({'feature': np.array(X1.columns), 'importance': gbr_optimal.feature_importances_})\n",
    "feature_extraction"
   ]
  },
  {
   "cell_type": "markdown",
   "metadata": {
    "id": "pkIjlm8C6CgW"
   },
   "source": [
    "## Computation of RMSE & Standard Deviation after Removal of Unimportant Features"
   ]
  },
  {
   "cell_type": "code",
   "execution_count": 35,
   "metadata": {
    "colab": {
     "base_uri": "https://localhost:8080/"
    },
    "id": "DiRI6Htk2QXC",
    "outputId": "0025dac7-7294-46f5-a0f8-0b3dd0d2d35a"
   },
   "outputs": [
    {
     "name": "stdout",
     "output_type": "stream",
     "text": [
      "4850.3697303667905\n",
      "11.022567240245028\n"
     ]
    }
   ],
   "source": [
    "train2 = train1\n",
    "train2 = train2.drop(columns=['paint_color_brown', 'paint_color_custom', 'paint_color_green', 'paint_color_orange', 'paint_color_purple', 'paint_color_yellow', 'type_bus', 'type_offroad', 'type_mini-van', 'type_wagon'], axis=1)\n",
    "\n",
    "X2 = train2.drop(columns=['price'], axis=1)\n",
    "y2 = train2['price']\n",
    "\n",
    "new_gbr_score = cross_val_score(gbr_optimal, X2, y2, scoring = 'neg_root_mean_squared_error', cv = 5)\n",
    "\n",
    "print(np.mean(np.absolute(new_gbr_score)))\n",
    "print(np.std(np.absolute(new_gbr_score)))"
   ]
  },
  {
   "cell_type": "markdown",
   "metadata": {
    "id": "0NRCiXCx79-L"
   },
   "source": [
    "# **V - Pipeline, Interpretable Model, and Final Testing**"
   ]
  },
  {
   "cell_type": "markdown",
   "metadata": {
    "id": "OJSOxLBSfBHX"
   },
   "source": [
    "The pipeline created here only imputes missing values for numeric features and encodes the categorical features. This is the case due to the fact that many features were created in the pre-processing stage (Part II) that cannot otherwise be created using the Pipeline. Moreover, the imputing of categorical features in the pre-processing stage was done using a manual Python function. In the numeric pipeline, the SimpleImputer is used to impute missing numeric values and the QuantileTransformer is used to scale the data. This numeric pipeline was then implemented in a full pipeline that conducts both the ordinal encoding and one-hot encoding of categorical values.\n",
    "\n",
    "After creating the pipeline, I tried optimizing the hyperparameters for the DecisionTreeRegressor, since it is an interpretable model along with the linear regression using the Pipeline.\n",
    "\n",
    "After applying the pre-processing techniques and the pipeline to the test set, the model was evaluated using the interpretable models (Linear Regression & Decision Tree) and the optimal Gradient Boosting Regressor in Part III. In the end, the Gradient Boosting Regressor yielded the lowest RMSE of around 5,334."
   ]
  },
  {
   "cell_type": "markdown",
   "metadata": {
    "id": "38cn2Tbm_NfW"
   },
   "source": [
    "#### Would collecting more data and retraining the model decrease the error rate of our system?\n",
    "\n",
    "It depends. To know whether the addition of new data to the training set leads to a decrease in the error when evaluating on the test, we need to compute both training error and test error. If there is low training error but high testing error (the model does not work well on new data), then there is a case of overfitting. In this case, the addition of data is advantageous to reduce overfitting and to work well on new data.\n",
    "\n",
    "However, should new data be added to the training set, it should be consistent with all other records. For example, in the case of predicting the price of used cars, a record cannot contain a significantly high or negative price; it must be consistent with the data already present. If this is not the case, then the model cannot predict on new data.\n",
    "\n",
    "In addition, if there is already a high amount of records in the training set, then the addition of new records would not change the error; it would remain somewhat constant. There is always bound to be some error in the model (no model is perfect). There reaches a point where the addition of data has little to no effect on the error."
   ]
  },
  {
   "cell_type": "markdown",
   "metadata": {
    "id": "LGXW1LmI6ddR"
   },
   "source": [
    "## Creating Training Pipelines"
   ]
  },
  {
   "cell_type": "code",
   "execution_count": 36,
   "metadata": {
    "id": "68Xp7zf0cxyi"
   },
   "outputs": [],
   "source": [
    "num_pipeline_train = Pipeline([\n",
    "        ('imputer', SimpleImputer(strategy=\"median\")),\n",
    "        ('qr', QuantileTransformer()),\n",
    "    ])\n",
    "\n",
    "train_numeric = train3[['car_age', 'odometer', 'num_cylinders']]\n",
    "train_categorical_nonordinal = train3[['fuel', 'transmission', 'drive', 'type', 'paint_color']]\n",
    "train_categorical_ordinal = train3[['condition']]\n",
    "\n",
    "num_attribs = list(train_numeric)\n",
    "cat_nonordinal_attribs = list(train_categorical_nonordinal)\n",
    "cat_ordinal_attribs = list(train_categorical_ordinal)\n",
    "\n",
    "full_pipeline_train = ColumnTransformer([\n",
    "        (\"num\", num_pipeline_train, num_attribs),\n",
    "        (\"cat_nonordinal\", OneHotEncoder(), cat_nonordinal_attribs),\n",
    "        (\"cat_ordinal\", OrdinalEncoder(), cat_ordinal_attribs),\n",
    "    ])\n",
    "\n",
    "train_prepared = full_pipeline_train.fit_transform(train3)"
   ]
  },
  {
   "cell_type": "code",
   "execution_count": 37,
   "metadata": {
    "colab": {
     "base_uri": "https://localhost:8080/"
    },
    "id": "mpcA-jkTaeQq",
    "outputId": "f9101e90-2931-490c-83a2-8f7a4b6692f1"
   },
   "outputs": [
    {
     "name": "stdout",
     "output_type": "stream",
     "text": [
      "6725.255765531889\n",
      "9.689278692909742\n"
     ]
    }
   ],
   "source": [
    "train_prepared = train_prepared.toarray()\n",
    "\n",
    "scores_linear_pipeline = cross_val_score(lr, train_prepared, y3, scoring = 'neg_root_mean_squared_error', cv=5)\n",
    "\n",
    "print(np.mean(np.absolute(scores_linear_pipeline)))\n",
    "print(np.std(np.absolute(scores_linear_pipeline)))"
   ]
  },
  {
   "cell_type": "markdown",
   "metadata": {
    "id": "vp0Lc-WLaA0c"
   },
   "source": [
    "## Optimizing Hyperparameters of Interpretable Model (Linear Regression & Decision Tree)"
   ]
  },
  {
   "cell_type": "code",
   "execution_count": 38,
   "metadata": {},
   "outputs": [],
   "source": [
    "pipe = Pipeline([('model', LinearRegression())])\n",
    "\n",
    "grid_param = [\n",
    "                {\"model\": [DecisionTreeRegressor()],\n",
    "                 \"model__min_samples_split\": [10, 20],\n",
    "                 \"model__max_depth\": [10, 12],\n",
    "                 \"model__min_samples_leaf\": [20, 40],\n",
    "                 \"model__max_leaf_nodes\": [50, 100],\n",
    "                 'model__max_features': ['sqrt', 0.75, 1]\n",
    "                }]\n",
    "\n",
    "gridsearch = GridSearchCV(pipe, grid_param, cv=5, n_jobs=-1)\n",
    "best_model = gridsearch.fit(train_prepared, y3)"
   ]
  },
  {
   "cell_type": "markdown",
   "metadata": {
    "id": "pWnnQ5E0t9Gd"
   },
   "source": [
    "## Pre-Processing on Test Set"
   ]
  },
  {
   "cell_type": "code",
   "execution_count": 39,
   "metadata": {
    "id": "Vxg76YPJetR6"
   },
   "outputs": [],
   "source": [
    "test = pd.read_csv(\"https://raw.githubusercontent.com/motayech/Portfolio/main/Used%20Car%20Price%20Prediction/cars_test.csv\")"
   ]
  },
  {
   "cell_type": "code",
   "execution_count": 40,
   "metadata": {
    "id": "k03gQPnTuAt5"
   },
   "outputs": [],
   "source": [
    "# Dropping Columns\n",
    "test = test.drop(['id', 'region', 'lat', 'long', 'posting_date', 'model'], axis=1)\n",
    "\n",
    "# Creating the \"Age\" Feature\n",
    "test['car_age'] = 2020 - test['year']\n",
    "test = test.drop(['year'], axis = 1)\n",
    "\n",
    "# Changing the Data Type of \"Cylinders\" & Imputing Missing Values\n",
    "new_test = test['cylinders'].str.split(\" \", n=1, expand=True)\n",
    "test['num_cylinders'] = new_test[0] \n",
    "test.drop(columns =['cylinders'], inplace = True)\n",
    "\n",
    "test = test[test['num_cylinders'] != 'other']\n",
    "test['num_cylinders'] = test['num_cylinders'].fillna('6')\n",
    "test['num_cylinders'] = test['num_cylinders'].astype(str).astype(int)\n",
    "\n",
    "# Dropping Outliers from \"Price\" Feature\n",
    "Q1_test_price = test['price'].quantile(0.25)\n",
    "Q3_test_price = test['price'].quantile(0.75)\n",
    "IQR_test_price = Q3_test_price - Q1_test_price\n",
    "\n",
    "test = test[(test['price'] > Q1_test_price - 1.5 * IQR_test_price) & (test['price'] < Q3_test_price + 1.5 * IQR_test_price)]\n",
    "test = test[test['price'] > 0]\n",
    "\n",
    "# Dropping Outliers from the \"Odometer\" Feature\n",
    "Q1_test_odo = test['odometer'].quantile(0.25)\n",
    "Q3_test_odo = test['odometer'].quantile(0.75)\n",
    "IQR_test_odo = Q3_test_odo - Q1_test_odo\n",
    "\n",
    "test = test[(test['odometer'] > Q1_test_odo - 1.5 * IQR_test_odo) & (test['odometer'] < Q3_test_odo + 1.5 * IQR_test_odo)]\n",
    "test = test[test['odometer'] > 0]\n",
    "\n",
    "# Adding \"Is Luxury?\" Category (from \"Manufacturer\" category)\n",
    "lux = ['bmw', 'mercedes-benz', 'chrysler', 'lexus', 'cadillac', 'buick', 'audi', 'acura', 'infiniti', 'lincoln', 'volvo', 'mini', 'porsche', 'saturn',\n",
    "       'jaguar', 'tesla', 'alfa-romeo', 'land rover', 'aston-martin', 'hennessey', 'ferrari']\n",
    "x = list(test['manufacturer'])\n",
    "y = []\n",
    "\n",
    "for car in x:\n",
    "  if car in lux:\n",
    "    y.append(1)\n",
    "  else:\n",
    "    y.append(0)\n",
    "\n",
    "y = pd.Series(y)\n",
    "test['is_luxury'] = y.values\n",
    "\n",
    "test = test.drop(['manufacturer'], axis = 1)\n",
    "\n",
    "# Adding the \"Region\" Category (from \"State\" Category)\n",
    "northeast = ['ct', 'me', 'ma', 'nh', 'ri', 'vt', 'nj', 'ny', 'pa']\n",
    "midwest = ['il', 'in', 'mi', 'oh', 'wi', 'ia', 'ks', 'mn', 'mo', 'ne', 'nd', 'sd']\n",
    "south = ['de', 'fl', 'ga', 'md', 'nc', 'sc', 'va', 'dc', 'wv', 'al', 'ky', 'ms', 'tn', 'ar', 'la', 'ok', 'tx']\n",
    "west = ['az', 'co', 'id', 'mt', 'nv', 'nm', 'ut', 'wy', 'ak', 'ca', 'hi', 'or', 'wa']\n",
    "\n",
    "ne_list = []\n",
    "mw_list = []\n",
    "south_list = []\n",
    "west_list = []\n",
    "\n",
    "for state in list(test['state']):\n",
    "  if state in northeast:\n",
    "    ne_list.append(1)\n",
    "  else:\n",
    "    ne_list.append(0)\n",
    "  \n",
    "  if state in midwest:\n",
    "    mw_list.append(1)\n",
    "  else:\n",
    "    mw_list.append(0)\n",
    "  \n",
    "  if state in south:\n",
    "    south_list.append(1)\n",
    "  else:\n",
    "    south_list.append(0)\n",
    "\n",
    "  if state in west:\n",
    "    west_list.append(1)\n",
    "  else:\n",
    "    west_list.append(0)\n",
    "\n",
    "ne_list = pd.Series(ne_list)\n",
    "mw_list = pd.Series(mw_list)\n",
    "south_list = pd.Series(south_list)\n",
    "west_list = pd.Series(west_list)\n",
    "\n",
    "test['state_region_northeast'] = ne_list.values\n",
    "test['state_region_midwest'] = mw_list.values\n",
    "test['state_region_south'] = south_list.values\n",
    "test['state_region_west'] = west_list.values\n",
    "\n",
    "test = test.drop(['state'], axis = 1)\n",
    "\n",
    "# Imputing Missing Values for Categorical Features\n",
    "test_cat = ['condition', 'fuel', 'transmission', 'drive', 'paint_color', 'type']\n",
    "test_cat_not_ordinal = ['fuel', 'transmission', 'drive', 'paint_color', 'type']\n",
    "\n",
    "for col1 in test_cat:\n",
    "  impute_nan_most_frequent_category(test, col1)"
   ]
  },
  {
   "cell_type": "markdown",
   "metadata": {
    "id": "MEOVftaV-D3u"
   },
   "source": [
    "## Creating Pipelines for Test Set"
   ]
  },
  {
   "cell_type": "code",
   "execution_count": 41,
   "metadata": {
    "id": "xwyWmDnM2bg-"
   },
   "outputs": [],
   "source": [
    "num_pipeline_test = Pipeline([\n",
    "        ('imputer', SimpleImputer(strategy=\"median\")),\n",
    "        ('qr', QuantileTransformer()),\n",
    "    ])\n",
    "\n",
    "test_numeric = test[['car_age', 'odometer', 'num_cylinders']]\n",
    "test_categorical_nonordinal = test[['fuel', 'transmission', 'drive', 'type', 'paint_color']]\n",
    "test_categorical_ordinal = test[['condition']]\n",
    "\n",
    "num_attribs = list(test_numeric)\n",
    "cat_nonordinal_attribs = list(test_categorical_nonordinal)\n",
    "cat_ordinal_attribs = list(test_categorical_ordinal)\n",
    "\n",
    "full_pipeline_test = ColumnTransformer([\n",
    "        (\"num\", num_pipeline_test, num_attribs),\n",
    "        (\"cat_nonordinal\", OneHotEncoder(), cat_nonordinal_attribs),\n",
    "        (\"cat_ordinal\", OrdinalEncoder(), cat_ordinal_attribs),\n",
    "    ])\n",
    "\n",
    "X_test = test.drop(columns=['price'], axis=1)\n",
    "y_test = test['price']\n",
    "\n",
    "test_prepared = full_pipeline_test.fit_transform(X_test)\n",
    "test_prepared = test_prepared.toarray()"
   ]
  },
  {
   "cell_type": "markdown",
   "metadata": {
    "id": "_MZyV5Q44SYf"
   },
   "source": [
    "## Evaluation of Models on Test Set"
   ]
  },
  {
   "cell_type": "code",
   "execution_count": 42,
   "metadata": {},
   "outputs": [
    {
     "data": {
      "text/plain": [
       "6505.179809250245"
      ]
     },
     "execution_count": 42,
     "metadata": {},
     "output_type": "execute_result"
    }
   ],
   "source": [
    "# Interpretable Model (Decision Tree)\n",
    "y_pred = best_model.best_estimator_.predict(test_prepared)\n",
    "np.sqrt(mean_squared_error(y_pred, y_test))"
   ]
  },
  {
   "cell_type": "code",
   "execution_count": 43,
   "metadata": {},
   "outputs": [
    {
     "name": "stderr",
     "output_type": "stream",
     "text": [
      "C:\\Users\\motay\\Anaconda3\\lib\\site-packages\\sklearn\\utils\\validation.py:72: DataConversionWarning: A column-vector y was passed when a 1d array was expected. Please change the shape of y to (n_samples, ), for example using ravel().\n",
      "  return f(**kwargs)\n"
     ]
    },
    {
     "data": {
      "text/plain": [
       "5338.911499459359"
      ]
     },
     "execution_count": 43,
     "metadata": {},
     "output_type": "execute_result"
    }
   ],
   "source": [
    "# Gradient Boosting Regressor\n",
    "gb = grid_search_gbr.best_estimator_\n",
    "gb\n",
    "\n",
    "gb.fit(train_prepared, y3)\n",
    "y_pred = gb.predict(test_prepared)\n",
    "np.sqrt(mean_squared_error(y_pred, y_test))"
   ]
  },
  {
   "cell_type": "code",
   "execution_count": 44,
   "metadata": {
    "colab": {
     "base_uri": "https://localhost:8080/"
    },
    "id": "ceNAbHX24ZsC",
    "outputId": "82e654c4-cff8-4238-84dc-62e9661f3c10"
   },
   "outputs": [
    {
     "data": {
      "text/plain": [
       "6759.534760191618"
      ]
     },
     "execution_count": 44,
     "metadata": {},
     "output_type": "execute_result"
    }
   ],
   "source": [
    "# Linear Regression\n",
    "lr.fit(train_prepared, y3)\n",
    "y_pred = lr.predict(test_prepared)\n",
    "np.sqrt(mean_squared_error(y_pred, y_test))"
   ]
  }
 ],
 "metadata": {
  "colab": {
   "collapsed_sections": [],
   "name": "Assign5.ipynb",
   "provenance": []
  },
  "kernelspec": {
   "display_name": "Python 3",
   "language": "python",
   "name": "python3"
  },
  "language_info": {
   "codemirror_mode": {
    "name": "ipython",
    "version": 3
   },
   "file_extension": ".py",
   "mimetype": "text/x-python",
   "name": "python",
   "nbconvert_exporter": "python",
   "pygments_lexer": "ipython3",
   "version": "3.8.5"
  }
 },
 "nbformat": 4,
 "nbformat_minor": 1
}
